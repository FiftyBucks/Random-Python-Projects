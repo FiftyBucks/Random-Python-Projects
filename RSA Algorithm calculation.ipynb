{
 "cells": [
  {
   "cell_type": "code",
   "execution_count": 4,
   "id": "9484bac0",
   "metadata": {},
   "outputs": [
    {
     "name": "stdout",
     "output_type": "stream",
     "text": [
      "[5, 7, 11, 19, 23, 25, 29, 31, 35, 37, 41, 43, 47, 49, 53, 55, 59, 61, 67, 71, 73, 77, 79, 83, 89, 95, 97, 101, 103, 107, 109, 113, 115, 121, 125, 127, 131, 133, 137, 139, 145, 149, 151, 155, 157, 161, 163, 167, 173, 175, 179, 181, 185, 191]\n"
     ]
    }
   ],
   "source": [
    "# calculation of public key for RSA encryption algorithm\n",
    "\n",
    "import math\n",
    "\n",
    "p = 13\n",
    "q = 17\n",
    "n = 221\n",
    "phi = 192\n",
    "pub_key = []\n",
    "\n",
    "for integer in range(2,phi):\n",
    "    if math.gcd(n,integer) == 1 and math.gcd(phi,integer) == 1:\n",
    "        pub_key.append(integer)\n",
    "        \n",
    "print(pub_key)        "
   ]
  },
  {
   "cell_type": "code",
   "execution_count": 5,
   "id": "18a63400",
   "metadata": {},
   "outputs": [
    {
     "name": "stdout",
     "output_type": "stream",
     "text": [
      "[269, 461, 653, 845, 1037, 1229, 1421, 1613]\n"
     ]
    }
   ],
   "source": [
    "# calculation of private key for RSA encryption algorithm\n",
    "\n",
    "e = 5\n",
    "phi = 192\n",
    "pvt_key = []\n",
    "\n",
    "for integer in range(phi,phi+1500):\n",
    "    \n",
    "    if (integer * e) % phi == 1: # formula = d * e % phi == 1\n",
    "        pvt_key.append(integer)\n",
    "        \n",
    "print(pvt_key)        "
   ]
  },
  {
   "cell_type": "code",
   "execution_count": 12,
   "id": "138bd4e5",
   "metadata": {},
   "outputs": [
    {
     "name": "stdout",
     "output_type": "stream",
     "text": [
      "66\n",
      "111\n",
      "98\n"
     ]
    }
   ],
   "source": [
    "a = \"Bob\"\n",
    "\n",
    "for text in a:\n",
    "    print(ord(text))"
   ]
  },
  {
   "cell_type": "code",
   "execution_count": 13,
   "id": "76743e55",
   "metadata": {},
   "outputs": [
    {
     "ename": "SyntaxError",
     "evalue": "invalid syntax (553176649.py, line 1)",
     "output_type": "error",
     "traceback": [
      "\u001b[1;36m  Input \u001b[1;32mIn [13]\u001b[1;36m\u001b[0m\n\u001b[1;33m    2<sup>5</sup> % 2\u001b[0m\n\u001b[1;37m            ^\u001b[0m\n\u001b[1;31mSyntaxError\u001b[0m\u001b[1;31m:\u001b[0m invalid syntax\n"
     ]
    }
   ],
   "source": [
    "2<sup>5</sup> % 2\n"
   ]
  },
  {
   "cell_type": "code",
   "execution_count": 14,
   "id": "01db3404",
   "metadata": {},
   "outputs": [
    {
     "data": {
      "text/plain": [
       "71"
      ]
     },
     "execution_count": 14,
     "metadata": {},
     "output_type": "execute_result"
    }
   ],
   "source": [
    "66^5"
   ]
  },
  {
   "cell_type": "code",
   "execution_count": 15,
   "id": "cae1cfe0",
   "metadata": {},
   "outputs": [
    {
     "data": {
      "text/plain": [
       "71"
      ]
     },
     "execution_count": 15,
     "metadata": {},
     "output_type": "execute_result"
    }
   ],
   "source": [
    "66 ^ 5"
   ]
  },
  {
   "cell_type": "code",
   "execution_count": 16,
   "id": "f684665d",
   "metadata": {},
   "outputs": [
    {
     "data": {
      "text/plain": [
       "8"
      ]
     },
     "execution_count": 16,
     "metadata": {},
     "output_type": "execute_result"
    }
   ],
   "source": [
    "2 ** 3"
   ]
  },
  {
   "cell_type": "code",
   "execution_count": 17,
   "id": "07983bce",
   "metadata": {},
   "outputs": [
    {
     "data": {
      "text/plain": [
       "1252332576"
      ]
     },
     "execution_count": 17,
     "metadata": {},
     "output_type": "execute_result"
    }
   ],
   "source": [
    "66 ** 5"
   ]
  },
  {
   "cell_type": "code",
   "execution_count": 18,
   "id": "cc55c661",
   "metadata": {},
   "outputs": [
    {
     "data": {
      "text/plain": [
       "53"
      ]
     },
     "execution_count": 18,
     "metadata": {},
     "output_type": "execute_result"
    }
   ],
   "source": [
    "(66 ** 5) % 221"
   ]
  },
  {
   "cell_type": "code",
   "execution_count": 20,
   "id": "843d900e",
   "metadata": {},
   "outputs": [
    {
     "data": {
      "text/plain": [
       "66"
      ]
     },
     "execution_count": 20,
     "metadata": {},
     "output_type": "execute_result"
    }
   ],
   "source": [
    "(53 ** 269) % 221"
   ]
  },
  {
   "cell_type": "code",
   "execution_count": null,
   "id": "2fbbbf9a",
   "metadata": {},
   "outputs": [],
   "source": []
  }
 ],
 "metadata": {
  "kernelspec": {
   "display_name": "Python 3 (ipykernel)",
   "language": "python",
   "name": "python3"
  },
  "language_info": {
   "codemirror_mode": {
    "name": "ipython",
    "version": 3
   },
   "file_extension": ".py",
   "mimetype": "text/x-python",
   "name": "python",
   "nbconvert_exporter": "python",
   "pygments_lexer": "ipython3",
   "version": "3.9.12"
  }
 },
 "nbformat": 4,
 "nbformat_minor": 5
}
