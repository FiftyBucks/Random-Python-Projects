{
 "cells": [
  {
   "cell_type": "code",
   "execution_count": 1,
   "id": "99efcdca",
   "metadata": {},
   "outputs": [
    {
     "name": "stdout",
     "output_type": "stream",
     "text": [
      "                                   +-+-+-+-+-+-+ +-+-+-+-+-+-+-+-+ +-+-+-+-+\n",
      "                                   |N|U|M|B|E|R| |G|U|E|S|S|I|N|G| |G|A|M|E|\n",
      "                                   +-+-+-+-+-+-+ +-+-+-+-+-+-+-+-+ +-+-+-+-+\n",
      "\n",
      "\t\t\t Basic Rules Of Game\n",
      "\n",
      "\t\t\t 1) Guess the number Between 1 - 10\n",
      " \t\t\t 2) Maximum Attempts = 3\n",
      "\n",
      "Hey kiddo, what's your name ? shishir\n",
      "Your 1nd guess number: 2\n",
      "Your guess is low but too close\n",
      "Your 2nd guess number: 4\n",
      "Your guess is high but too close\n",
      "Your 3nd guess number: 3\n",
      "\n",
      "Hurray !!!!!!! Your guess is correct (:.:) !\n",
      "\n",
      "\n",
      "shishir, Your attempts = 3\n",
      "Thank You For Playing !\n",
      "\n",
      "Would you like to try one more game ? (Y/N) y\n",
      "Your 1nd guess number: 1\n",
      "Your guess is low but too close\n",
      "Your 2nd guess number: 2\n",
      "Your guess is low but too close\n",
      "Your 3nd guess number: 3\n",
      "\n",
      "Hurray !!!!!!! Your guess is correct (:.:) !\n",
      "\n",
      "\n",
      "shishir, Your attempts = 6\n",
      "Thank You For Playing !\n",
      "\n",
      "Would you like to try one more game ? (Y/N) n\n",
      "\n",
      "\t\t\t Ratan TA-TA Bye Bye\n"
     ]
    }
   ],
   "source": [
    "import random\n",
    "\n",
    "import pyfiglet as pyf\n",
    "\n",
    "text = pyf.figlet_format(\"                                   NUMBER GUESSING GAME\", font=\"digital\")\n",
    "\n",
    "print(text)\n",
    "\n",
    "print(\"\\t\\t\\t Basic Rules Of Game\\n\\n\\t\\t\\t 1) Guess the number Between 1 - 10\\n \\t\\t\\t 2) Maximum Attempts = 3\\n\")\n",
    "\n",
    "player_name = input(\"Hey kiddo, what's your name ? \")\n",
    "\n",
    "correct_num = random.randint(1,10)\n",
    "\n",
    "player_attempts = 0\n",
    "\n",
    "play = \"y\"\n",
    "\n",
    "while play.lower() == \"y\":\n",
    "    \n",
    "    for i in range(1,4,1):\n",
    "    \n",
    "        guess = int(input(\"Your {0}nd guess number: \".format(i)))\n",
    "\n",
    "        player_attempts += 1\n",
    "\n",
    "        if guess > (correct_num + 5):\n",
    "            print(\"Your guess is too high\")\n",
    "\n",
    "        elif guess < (correct_num - 5):\n",
    "            print(\"Your guess is too low\")\n",
    "\n",
    "        elif guess > correct_num:\n",
    "            print(\"Your guess is high but too close\")\n",
    "\n",
    "        elif guess < correct_num:\n",
    "            print(\"Your guess is low but too close\")\n",
    "\n",
    "        elif guess == correct_num:\n",
    "            \n",
    "            break\n",
    "    \n",
    "    if guess == correct_num:\n",
    "        print(\"\\nHurray !!!!!!! Your guess is correct (:.:) !\\n\\n\")\n",
    "        \n",
    "    else:\n",
    "        print(\"\\nYou lost the first round\")\n",
    "        print(\"COrrect Answer = {0}\".format(correct_num))\n",
    "    \n",
    "    print(\"{0}, Your attempts = {1}\".format(player_name,player_attempts))\n",
    "    print(\"Thank You For Playing !\\n\")\n",
    "    play = input(\"Would you like to try one more game ? (Y/N) \")\n",
    "    \n",
    "    if play.lower() != \"y\":\n",
    "        break\n",
    "        \n",
    "print(\"\\n\\t\\t\\t Ratan TA-TA Bye Bye\")\n",
    "    \n",
    "    \n"
   ]
  },
  {
   "cell_type": "code",
   "execution_count": 2,
   "id": "7bdea668",
   "metadata": {},
   "outputs": [
    {
     "ename": "NameError",
     "evalue": "name 'list_fonts' is not defined",
     "output_type": "error",
     "traceback": [
      "\u001b[1;31m---------------------------------------------------------------------------\u001b[0m",
      "\u001b[1;31mNameError\u001b[0m                                 Traceback (most recent call last)",
      "Input \u001b[1;32mIn [2]\u001b[0m, in \u001b[0;36m<cell line: 3>\u001b[1;34m()\u001b[0m\n\u001b[0;32m      1\u001b[0m \u001b[38;5;28;01mimport\u001b[39;00m \u001b[38;5;21;01mpyfiglet\u001b[39;00m\n\u001b[1;32m----> 3\u001b[0m pyfiglet \u001b[38;5;241m-\u001b[39m\u001b[38;5;241m-\u001b[39m\u001b[43mlist_fonts\u001b[49m\n",
      "\u001b[1;31mNameError\u001b[0m: name 'list_fonts' is not defined"
     ]
    }
   ],
   "source": [
    "import pyfiglet\n",
    "\n",
    "pyfiglet --list_fonts"
   ]
  },
  {
   "cell_type": "code",
   "execution_count": null,
   "id": "7cd7c731",
   "metadata": {},
   "outputs": [],
   "source": []
  }
 ],
 "metadata": {
  "kernelspec": {
   "display_name": "Python 3 (ipykernel)",
   "language": "python",
   "name": "python3"
  },
  "language_info": {
   "codemirror_mode": {
    "name": "ipython",
    "version": 3
   },
   "file_extension": ".py",
   "mimetype": "text/x-python",
   "name": "python",
   "nbconvert_exporter": "python",
   "pygments_lexer": "ipython3",
   "version": "3.9.12"
  }
 },
 "nbformat": 4,
 "nbformat_minor": 5
}
