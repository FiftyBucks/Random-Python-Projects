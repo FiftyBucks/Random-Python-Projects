{
 "cells": [
  {
   "cell_type": "code",
   "execution_count": 1,
   "id": "3f6aa333",
   "metadata": {},
   "outputs": [
    {
     "name": "stdout",
     "output_type": "stream",
     "text": [
      " __  __    ___    _   _      _      ____     ____   _   _  \n",
      "|  \\/  |  / _ \\  | \\ | |    / \\    |  _ \\   / ___| | | | | \n",
      "| |\\/| | | | | | |  \\| |   / _ \\   | |_) | | |     | |_| | \n",
      "| |  | | | |_| | | |\\  |  / ___ \\  |  _ <  | |___  |  _  | \n",
      "|_|  |_|  \\___/  |_| \\_| /_/   \\_\\ |_| \\_\\  \\____| |_| |_| \n",
      "                                                           \n",
      " ____     ___    ____    ___   _   _  \n",
      "|  _ \\   / _ \\  | __ )  |_ _| | \\ | | \n",
      "| |_) | | | | | |  _ \\   | |  |  \\| | \n",
      "|  _ <  | |_| | | |_) |  | |  | |\\  | \n",
      "|_| \\_\\  \\___/  |____/  |___| |_| \\_| \n",
      "                                      \n",
      "\n",
      "KEY NOTES\n",
      "0 = LOSS\n",
      "1 = WIN\n",
      "Enter the num of days : 3\n",
      "Enter the num of trade in a day: 3\n"
     ]
    },
    {
     "ename": "KeyError",
     "evalue": "'hey'",
     "output_type": "error",
     "traceback": [
      "\u001b[1;31m---------------------------------------------------------------------------\u001b[0m",
      "\u001b[1;31mKeyError\u001b[0m                                  Traceback (most recent call last)",
      "Input \u001b[1;32mIn [1]\u001b[0m, in \u001b[0;36m<cell line: 35>\u001b[1;34m()\u001b[0m\n\u001b[0;32m     31\u001b[0m         day_trade_data[\u001b[38;5;124m\"\u001b[39m\u001b[38;5;124mhey\u001b[39m\u001b[38;5;124m\"\u001b[39m]\u001b[38;5;241m.\u001b[39mappend(day_trade_list)\n\u001b[0;32m     34\u001b[0m     day_trade_data[\u001b[38;5;124m\"\u001b[39m\u001b[38;5;124mhey\u001b[39m\u001b[38;5;124m\"\u001b[39m]       \n\u001b[1;32m---> 35\u001b[0m \u001b[43mdays_and_trade\u001b[49m\u001b[43m(\u001b[49m\u001b[43m)\u001b[49m\n",
      "Input \u001b[1;32mIn [1]\u001b[0m, in \u001b[0;36mdays_and_trade\u001b[1;34m()\u001b[0m\n\u001b[0;32m     27\u001b[0m         trade_result \u001b[38;5;241m=\u001b[39m random\u001b[38;5;241m.\u001b[39mrandint(\u001b[38;5;241m0\u001b[39m,\u001b[38;5;241m1\u001b[39m)\n\u001b[0;32m     28\u001b[0m         day_trade_list\u001b[38;5;241m.\u001b[39mappend(trade_result)\n\u001b[1;32m---> 31\u001b[0m     \u001b[43mday_trade_data\u001b[49m\u001b[43m[\u001b[49m\u001b[38;5;124;43m\"\u001b[39;49m\u001b[38;5;124;43mhey\u001b[39;49m\u001b[38;5;124;43m\"\u001b[39;49m\u001b[43m]\u001b[49m\u001b[38;5;241m.\u001b[39mappend(day_trade_list)\n\u001b[0;32m     34\u001b[0m day_trade_data[\u001b[38;5;124m\"\u001b[39m\u001b[38;5;124mhey\u001b[39m\u001b[38;5;124m\"\u001b[39m]\n",
      "\u001b[1;31mKeyError\u001b[0m: 'hey'"
     ]
    }
   ],
   "source": [
    "import pyfiglet\n",
    "import random\n",
    "\n",
    "# function for ascii art heading\n",
    "\n",
    "def welcome_ascii_text():\n",
    "    text = pyfiglet.figlet_format(\"M O N A R C H \\nR O B I N \") # ascii text using pyfiglet\n",
    "    print(text)\n",
    "    \n",
    "welcome_ascii_text()\n",
    "\n",
    "\n",
    "def days_and_trade():\n",
    "    \n",
    "    day_trade_data = {}   # dict to store data of each trade day\n",
    "    day_trade_list = []   # list to store trades in a day\n",
    "    \n",
    "    print(\"KEY NOTES\\n0 = LOSS\\n1 = WIN\")\n",
    "    \n",
    "    days = int(input(\"Enter the num of days : \"))\n",
    "    trade = int(input(\"Enter the num of trade in a day: \"))\n",
    "    \n",
    "    for i in range(1,days,1): # loop to count win and loss days\n",
    "        \n",
    "        for j in range(1,trade,1): # loop to count win and loss trade\n",
    "            \n",
    "            trade_result = random.randint(0,1)\n",
    "            day_trade_list.append(trade_result)\n",
    "            \n",
    "            \n",
    "        day_trade_data[\"hey\"].append(day_trade_list)\n",
    "            \n",
    "            \n",
    "    day_trade_data[\"hey\"]       \n",
    "days_and_trade()            \n",
    "            \n",
    "            \n",
    "    \n",
    "    "
   ]
  },
  {
   "cell_type": "code",
   "execution_count": null,
   "id": "51dcb5f1",
   "metadata": {},
   "outputs": [],
   "source": []
  }
 ],
 "metadata": {
  "kernelspec": {
   "display_name": "Python 3 (ipykernel)",
   "language": "python",
   "name": "python3"
  },
  "language_info": {
   "codemirror_mode": {
    "name": "ipython",
    "version": 3
   },
   "file_extension": ".py",
   "mimetype": "text/x-python",
   "name": "python",
   "nbconvert_exporter": "python",
   "pygments_lexer": "ipython3",
   "version": "3.9.12"
  }
 },
 "nbformat": 4,
 "nbformat_minor": 5
}
